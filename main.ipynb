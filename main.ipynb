{
 "cells": [
  {
   "cell_type": "code",
   "execution_count": 6,
   "metadata": {},
   "outputs": [],
   "source": [
    "import numpy as np\n",
    "from scipy.stats import norm\n",
    "import matplotlib.pyplot as plt"
   ]
  },
  {
   "cell_type": "markdown",
   "metadata": {},
   "source": [
    "## MAIN TASK\n",
    "\n",
    "In this coursework assignment, you are meant to value derivatives using binomial trees, Monte-Carlo\n",
    "simulations, the finite difference method, and the Longstaff-Schwartz least-squares approach. To this\n",
    "end, assume the following set of baseline parameters: The initial stock price (S0) is 35, the stock volatility is 0.45 (45% per annum), and the risk-free rate is 0.03 (3% per annum). Consider a European put\n",
    "option whose strike price is equal to 35, with a time-to-maturity of one year. The dividend yield is 0.04\n",
    "(4% per annum). In some later tasks, you also encounter the “equivalent” American option."
   ]
  },
  {
   "cell_type": "markdown",
   "metadata": {},
   "source": [
    "### Task 1\n",
    "\n",
    "Use the Black-Scholes (1973) formula to calculate the value of the option. Use put-call parity to calculate the value of the “equivalent” call option (same underlying, strike price, and maturity date).\n",
    "\n",
    "**Black-Scholes formula:**\n",
    "$$P = K e^{-rT} N(-d_2) - S_0 N(-d_1)$$\n",
    "\n",
    "where:\n",
    "- $d_1$ and $d_2$ are defined as:\n",
    "  $$\n",
    "  d_1 = \\frac{\\ln(S_0 / K) + (r + \\sigma^2 / 2) T}{\\sigma \\sqrt{T}}\n",
    "  $$\n",
    "  $$\n",
    "  d_2 = d_1 - \\sigma \\sqrt{T}\n",
    "  $$\n",
    "\n",
    "As there is dividend yield of 4% per annum, we should adjust our initial price on a certain value. So the final Black-Scholes formula will look like:\n",
    "\n",
    "$$P = K e^{-rT} N(-d_2) - S_0 e^{-qT} N(-d_1)$$\n",
    "\n",
    "where:\n",
    "- $d_1$ and $d_2$ are defined as:\n",
    "  $$\n",
    "  d_1 = \\frac{\\ln(S_0 / K) + (r - q + \\sigma^2 / 2) T}{\\sigma \\sqrt{T}}\n",
    "  $$\n",
    "  $$\n",
    "  d_2 = d_1 - \\sigma \\sqrt{T}\n",
    "  $$"
   ]
  },
  {
   "cell_type": "code",
   "execution_count": 4,
   "metadata": {},
   "outputs": [
    {
     "name": "stdout",
     "output_type": "stream",
     "text": [
      "Price of the put option using Black-Scholes formula is 13.0033\n"
     ]
    }
   ],
   "source": [
    "# Parameters\n",
    "S0 = 35          # Initial stock price\n",
    "K = 45           # Strike price in GBP\n",
    "T = 1            # Time to maturity in years (1 year)\n",
    "r = 0.03         # Risk-free interest rate (3% per annum)\n",
    "sigma = 0.45     # Volatility of the stock's returns\n",
    "q = 0.04         # Dividend yield (4% per annum)\n",
    "\n",
    "# d1 and d2 calculations\n",
    "d1 = (np.log(S0 / K) + (r - q + 0.5 * sigma**2) * T) / (sigma * np.sqrt(T))\n",
    "d2 = d1 - sigma * np.sqrt(T)\n",
    "\n",
    "# Put option price calculation\n",
    "put_price = K * np.exp(-r * T) * norm.cdf(-d2) - S0 * np.exp(-q * T) * norm.cdf(-d1)\n",
    "\n",
    "print(f\"Price of the put option using Black-Scholes formula is {round(put_price, 5)}\")"
   ]
  },
  {
   "cell_type": "markdown",
   "metadata": {},
   "source": [
    "Put-call parity is defined by the following formula [Hull, page 242, formula (11.6)]:\n",
    "\n",
    "$$c + K e^{-rT} = p + S_0$$\n",
    "\n",
    "where:\n",
    "- $c$ and $K e^{-rT}$ are the components of first asset\n",
    "\n",
    "  and \n",
    "  \n",
    "  $p$ and $S_0$ are the components of second asset\n",
    "\n",
    "Let's derive value of the call option from the formula above\n",
    "\n",
    "$$c = p + S_0 - K e^{-rT}$$\n",
    "\n",
    "Also, we should not forget about the dividends. That is why we should adjust initial value price:\n",
    "\n",
    "$$c = p + S_0 e^{-qT} - K e^{-rT}$$"
   ]
  },
  {
   "cell_type": "code",
   "execution_count": null,
   "metadata": {},
   "outputs": [
    {
     "name": "stdout",
     "output_type": "stream",
     "text": [
      "Price of the call option using put-call parity formula is 2.96088\n"
     ]
    }
   ],
   "source": [
    "call_price = put_price + S0 * np.exp(-q * T) - K * np.exp(-r * T)\n",
    "print(f\"Price of the call option using put-call parity formula is {round(call_price, 5)}\")"
   ]
  },
  {
   "cell_type": "markdown",
   "metadata": {},
   "source": [
    "### Task 2\n",
    "\n",
    "Use a simple one-step binomial tree to value the above European put option. Set u equal to the exponential of sigma times the square root of the maturity time divided by the number of time steps (i.e., $e^{σ * (T/n)^{1/2}}$) and $d$ equal to the exponential of minus one times sigma times the square root of the maturity time divided by the number of time steps (i.e., $e^{-σ * (T/n)^{1/2}}$).\n",
    "\n",
    "After that, increase the number of time steps (n) and repeat the binomial tree value calculation. So, for example, use a binomial tree with two, then three, then four, then five, then six, etc. time steps to value the option. I’ll leave it up to you how many binomial trees you use in your calculations. I would expect that the average group does binomial trees with one-, two-, three-, four-, and five-time steps. But the sky is the limit, and the more binomial trees you calculate the better for your mark.\n",
    "\n",
    "Don’t show each and every binomial tree you do in the coursework assignment. Showing one tree is certainly enough for illustrative purposes. Keep the page limit in mind!\n",
    "\n",
    "Plot the value of the European put option (y-axis) against the number of time steps used in the binomial tree (x-axis). Also plot the Black-Scholes value (e.g., as horizontal line) in the graph. Do more time steps render the binomial tree value closer to the Black-Scholes (1973) value? Explain in intuitive language why this is the case (you would want to look at your textbook)"
   ]
  },
  {
   "cell_type": "code",
   "execution_count": 3,
   "metadata": {},
   "outputs": [
    {
     "name": "stdout",
     "output_type": "stream",
     "text": [
      "Test commit\n",
      "Nikhil test\n"
     ]
    }
   ],
   "source": [
    "print(\"Test commit\")\n",
    "\n",
    "print(\"Nikhil test\")"
   ]
  }
 ],
 "metadata": {
  "kernelspec": {
   "display_name": ".venv",
   "language": "python",
   "name": "python3"
  },
  "language_info": {
   "codemirror_mode": {
    "name": "ipython",
    "version": 3
   },
   "file_extension": ".py",
   "mimetype": "text/x-python",
   "name": "python",
   "nbconvert_exporter": "python",
   "pygments_lexer": "ipython3",
   "version": "3.11.5"
  }
 },
 "nbformat": 4,
 "nbformat_minor": 2
}
